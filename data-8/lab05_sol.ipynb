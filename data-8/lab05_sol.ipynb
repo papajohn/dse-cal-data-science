{
 "cells": [
  {
   "cell_type": "markdown",
   "metadata": {},
   "source": [
    "# Resampling and the Bootstrap\n",
    "\n",
    "*Adapted from Data 8.2X Lab 5 from Summer 2018.*\n",
    "\n",
    "We will attempt to estimate the number `N`, a *population parameter*, that represents the number of elements in a population. We get to observe a uniform random sample with replacement of the elements, and for each one we can observe its serial number (from 1 to `N`). All elements are labeled with consecutive serial numbers from 1 to `N`, so `N` is the total number of elements. \n",
    "\n",
    "Given *just* a random sample of elements, we'll estimate `N`, and then we'll use simulation to find a confidence interval around our estimate, all without ever looking at the whole population.  This is an example of *statistical inference*.\n",
    "\n",
    "As usual, **run the cell below** to prepare the lab and the automatic tests."
   ]
  },
  {
   "cell_type": "code",
   "execution_count": 1,
   "metadata": {},
   "outputs": [
    {
     "name": "stdout",
     "output_type": "stream",
     "text": [
      "Collecting git+https://github.com/data-8/Gofer-Grader.git\n",
      "  Cloning https://github.com/data-8/Gofer-Grader.git to /private/var/folders/b0/rspxfhtn265c8kb3tfy8s5kc0000gp/T/pip-req-build-608s1a52\n",
      "Requirement already satisfied (use --upgrade to upgrade): gofer-grader==1.0.9 from git+https://github.com/data-8/Gofer-Grader.git in /Users/denero/anaconda3/envs/100/lib/python3.6/site-packages\n",
      "Requirement already satisfied: jinja2 in /Users/denero/anaconda3/envs/100/lib/python3.6/site-packages (from gofer-grader==1.0.9) (2.10)\n",
      "Requirement already satisfied: pygments in /Users/denero/anaconda3/envs/100/lib/python3.6/site-packages (from gofer-grader==1.0.9) (2.3.1)\n",
      "Requirement already satisfied: tornado in /Users/denero/anaconda3/envs/100/lib/python3.6/site-packages (from gofer-grader==1.0.9) (5.1.1)\n",
      "Requirement already satisfied: MarkupSafe>=0.23 in /Users/denero/anaconda3/envs/100/lib/python3.6/site-packages (from jinja2->gofer-grader==1.0.9) (1.1.0)\n",
      "Building wheels for collected packages: gofer-grader\n",
      "  Running setup.py bdist_wheel for gofer-grader ... \u001b[?25ldone\n",
      "\u001b[?25h  Stored in directory: /private/var/folders/b0/rspxfhtn265c8kb3tfy8s5kc0000gp/T/pip-ephem-wheel-cache-jy6upo_8/wheels/a6/a1/38/961db2f70ca17006998d4a298122bc7aab6b82bb00b8c2837a\n",
      "Successfully built gofer-grader\n"
     ]
    }
   ],
   "source": [
    "# Run this cell to set up the notebook, but please don't change it.\n",
    "\n",
    "# These lines import the Numpy and Datascience modules.\n",
    "import numpy as np\n",
    "from datascience import *\n",
    "\n",
    "# These lines do some fancy plotting magic.\n",
    "import matplotlib\n",
    "%matplotlib inline\n",
    "import matplotlib.pyplot as plt\n",
    "plt.style.use('fivethirtyeight')\n",
    "import warnings\n",
    "warnings.simplefilter('ignore', UserWarning)\n",
    "\n",
    "!pip install git+https://github.com/data-8/Gofer-Grader.git\n",
    "from gofer.ok import check"
   ]
  },
  {
   "cell_type": "markdown",
   "metadata": {},
   "source": [
    "## 1. Preliminaries\n",
    "The setup: We want to know the number of elements in the population.  That number is `N`.  Each element is numbered from 1 to `N`.\n",
    "\n",
    "We only see a small number of elements (assumed to be a uniform random sample with replacement from among all the elements), so we have to use estimation."
   ]
  },
  {
   "cell_type": "markdown",
   "metadata": {},
   "source": [
    "#### Question 1.1\n",
    "Is `N` a population parameter or a statistic?  If we compute a number using our random sample that's an estimate of `N`, is that a population parameter or a statistic?"
   ]
  },
  {
   "cell_type": "markdown",
   "metadata": {},
   "source": [
    "*Write your answer here, replacing this text.*"
   ]
  },
  {
   "cell_type": "markdown",
   "metadata": {},
   "source": [
    "Check your answer by posting on the discussion forum.\n",
    "\n",
    "To make the situation realistic, we're going to hide the true number of elements from you.  You'll have access only to this random sample:"
   ]
  },
  {
   "cell_type": "code",
   "execution_count": 2,
   "metadata": {},
   "outputs": [
    {
     "data": {
      "text/html": [
       "<table border=\"1\" class=\"dataframe\">\n",
       "    <thead>\n",
       "        <tr>\n",
       "            <th>serial number</th>\n",
       "        </tr>\n",
       "    </thead>\n",
       "    <tbody>\n",
       "        <tr>\n",
       "            <td>47           </td>\n",
       "        </tr>\n",
       "        <tr>\n",
       "            <td>42           </td>\n",
       "        </tr>\n",
       "        <tr>\n",
       "            <td>57           </td>\n",
       "        </tr>\n",
       "        <tr>\n",
       "            <td>79           </td>\n",
       "        </tr>\n",
       "        <tr>\n",
       "            <td>26           </td>\n",
       "        </tr>\n",
       "        <tr>\n",
       "            <td>23           </td>\n",
       "        </tr>\n",
       "        <tr>\n",
       "            <td>36           </td>\n",
       "        </tr>\n",
       "        <tr>\n",
       "            <td>64           </td>\n",
       "        </tr>\n",
       "        <tr>\n",
       "            <td>83           </td>\n",
       "        </tr>\n",
       "        <tr>\n",
       "            <td>135          </td>\n",
       "        </tr>\n",
       "    </tbody>\n",
       "</table>\n",
       "<p>... (7 rows omitted)</p>"
      ],
      "text/plain": [
       "serial number\n",
       "47\n",
       "42\n",
       "57\n",
       "79\n",
       "26\n",
       "23\n",
       "36\n",
       "64\n",
       "83\n",
       "135\n",
       "... (7 rows omitted)"
      ]
     },
     "execution_count": 2,
     "metadata": {},
     "output_type": "execute_result"
    }
   ],
   "source": [
    "observations = Table.read_table(\"serial_numbers.csv\")\n",
    "num_observations = observations.num_rows\n",
    "observations"
   ]
  },
  {
   "cell_type": "markdown",
   "metadata": {},
   "source": [
    "#### Question 1.2\n",
    "Define a function named `plot_serial_numbers` to make a histogram of any table of serial numbers.  It should take one argument, a table like `observations` with one column called `\"serial number\"`.  It should plot a histogram of the values in the column **using bins of width 1** ranging from **1 to 200** but return nothing.  Then, call that function to make a histogram of `observations`."
   ]
  },
  {
   "cell_type": "code",
   "execution_count": 3,
   "metadata": {},
   "outputs": [
    {
     "data": {
      "image/png": "[encoded data removed]",
      "text/plain": [
       "<Figure size 432x288 with 1 Axes>"
      ]
     },
     "metadata": {},
     "output_type": "display_data"
    }
   ],
   "source": [
    "def plot_serial_numbers(numbers):\n",
    "    numbers.hist(0)\n",
    "    \n",
    "    # Assuming the lines above produce a histogram, this next\n",
    "    # line may make your histograms look nicer.  Feel free to\n",
    "    # delete it if you want.\n",
    "    plt.ylim(0, .25)\n",
    "\n",
    "plot_serial_numbers(observations)"
   ]
  },
  {
   "cell_type": "markdown",
   "metadata": {},
   "source": [
    "#### Question 1.3\n",
    "By looking at the histogram, what can we say about `N` immediately? (Hint: What is the relationship between `N` and the largest serial number in `observations`?) What does each little bar in the histogram represent? Why are all the bars about the same height?"
   ]
  },
  {
   "cell_type": "markdown",
   "metadata": {},
   "source": [
    "It's at least 130 or so. Each bar is the density of values in a given range. All bars are the same height because `observations` is a sample from a uniform distribution."
   ]
  },
  {
   "cell_type": "markdown",
   "metadata": {},
   "source": [
    "#### Question 1.4\n",
    "One way to estimate `N` is to take twice the mean of the serial numbers we observe. Write a function that computes that statistic.  It should take as its argument an array of serial numbers and return twice their mean.  Call it `mean_based_estimator`.  \n",
    "\n",
    "After that, use it to compute an estimate of `N` called `mean_based_estimate`."
   ]
  },
  {
   "cell_type": "code",
   "execution_count": 4,
   "metadata": {},
   "outputs": [
    {
     "data": {
      "text/plain": [
       "122.47058823529412"
      ]
     },
     "execution_count": 4,
     "metadata": {},
     "output_type": "execute_result"
    }
   ],
   "source": [
    "def mean_based_estimator(nums):\n",
    "    return 2 * np.mean(nums)\n",
    "\n",
    "mean_based_estimate = mean_based_estimator(observations.column(0))\n",
    "mean_based_estimate"
   ]
  },
  {
   "cell_type": "code",
   "execution_count": 5,
   "metadata": {},
   "outputs": [
    {
     "data": {
      "text/html": [
       "\n",
       "    \n",
       "    \n",
       "        <p>All tests passed! Full grade.</p>\n",
       "    \n",
       "    "
      ],
      "text/plain": [
       "<gofer.ok.OKTestsResult at 0x11d2e8f60>"
      ]
     },
     "execution_count": 5,
     "metadata": {},
     "output_type": "execute_result"
    }
   ],
   "source": [
    "check('tests/q1_4.py')"
   ]
  },
  {
   "cell_type": "markdown",
   "metadata": {},
   "source": [
    "#### Question 1.5\n",
    "We can also estimate `N` using the biggest serial number in the sample.  Compute it, giving it the name `max_estimate`."
   ]
  },
  {
   "cell_type": "code",
   "execution_count": 6,
   "metadata": {},
   "outputs": [
    {
     "data": {
      "text/plain": [
       "135"
      ]
     },
     "execution_count": 6,
     "metadata": {},
     "output_type": "execute_result"
    }
   ],
   "source": [
    "max_estimate = max(observations.column(0))\n",
    "max_estimate"
   ]
  },
  {
   "cell_type": "code",
   "execution_count": 7,
   "metadata": {},
   "outputs": [
    {
     "data": {
      "text/html": [
       "\n",
       "    \n",
       "    \n",
       "        <p>All tests passed! Full grade.</p>\n",
       "    \n",
       "    "
      ],
      "text/plain": [
       "<gofer.ok.OKTestsResult at 0x11d2c0748>"
      ]
     },
     "execution_count": 7,
     "metadata": {},
     "output_type": "execute_result"
    }
   ],
   "source": [
    "check('tests/q1_5.py')"
   ]
  },
  {
   "cell_type": "markdown",
   "metadata": {},
   "source": [
    "## 2. Resampling\n",
    "Next, we want to get a sense of the accuracy of our estimates. To do this, we'll use resampling. "
   ]
  },
  {
   "cell_type": "markdown",
   "metadata": {},
   "source": [
    "#### Question 2.1\n",
    "Write a function called `simulate_resample`.  It should generate a resample from the observed serial numbers in `observations` and return that resample.  (The resample should be a table like `observations`.)  It should take no arguments."
   ]
  },
  {
   "cell_type": "code",
   "execution_count": 8,
   "metadata": {},
   "outputs": [],
   "source": [
    "def simulate_resample():\n",
    "    return observations.sample()"
   ]
  },
  {
   "cell_type": "markdown",
   "metadata": {},
   "source": [
    "Let's resample once."
   ]
  },
  {
   "cell_type": "code",
   "execution_count": 9,
   "metadata": {},
   "outputs": [
    {
     "data": {
      "text/html": [
       "<table border=\"1\" class=\"dataframe\">\n",
       "    <thead>\n",
       "        <tr>\n",
       "            <th>serial number</th>\n",
       "        </tr>\n",
       "    </thead>\n",
       "    <tbody>\n",
       "        <tr>\n",
       "            <td>108          </td>\n",
       "        </tr>\n",
       "        <tr>\n",
       "            <td>57           </td>\n",
       "        </tr>\n",
       "        <tr>\n",
       "            <td>57           </td>\n",
       "        </tr>\n",
       "        <tr>\n",
       "            <td>36           </td>\n",
       "        </tr>\n",
       "        <tr>\n",
       "            <td>41           </td>\n",
       "        </tr>\n",
       "        <tr>\n",
       "            <td>42           </td>\n",
       "        </tr>\n",
       "        <tr>\n",
       "            <td>47           </td>\n",
       "        </tr>\n",
       "        <tr>\n",
       "            <td>50           </td>\n",
       "        </tr>\n",
       "        <tr>\n",
       "            <td>135          </td>\n",
       "        </tr>\n",
       "        <tr>\n",
       "            <td>47           </td>\n",
       "        </tr>\n",
       "    </tbody>\n",
       "</table>\n",
       "<p>... (7 rows omitted)</p>"
      ],
      "text/plain": [
       "serial number\n",
       "108\n",
       "57\n",
       "57\n",
       "36\n",
       "41\n",
       "42\n",
       "47\n",
       "50\n",
       "135\n",
       "47\n",
       "... (7 rows omitted)"
      ]
     },
     "execution_count": 9,
     "metadata": {},
     "output_type": "execute_result"
    }
   ],
   "source": [
    "# This line is a little magic to make sure that everyone sees the same result.\n",
    "np.random.seed(123)\n",
    "\n",
    "one_resample = simulate_resample()\n",
    "one_resample"
   ]
  },
  {
   "cell_type": "code",
   "execution_count": 10,
   "metadata": {},
   "outputs": [
    {
     "data": {
      "text/html": [
       "\n",
       "    \n",
       "    \n",
       "        <p>All tests passed! Full grade.</p>\n",
       "    \n",
       "    "
      ],
      "text/plain": [
       "<gofer.ok.OKTestsResult at 0x1121fae80>"
      ]
     },
     "execution_count": 10,
     "metadata": {},
     "output_type": "execute_result"
    }
   ],
   "source": [
    "check('tests/q2_1.py')"
   ]
  },
  {
   "cell_type": "markdown",
   "metadata": {},
   "source": [
    "Later, we'll use many resamples at once to see what estimates typically look like.  We don't often pay attention to single resamples, so it's easy to misunderstand them.  Let's examine some individual resamples before we start using them."
   ]
  },
  {
   "cell_type": "markdown",
   "metadata": {},
   "source": [
    "#### Question 2.2\n",
    "In preparation for answering the next question, generate a histogram of your resample using the plotting function you defined earlier in this lab, **and** generate a separate histogram of the original observations."
   ]
  },
  {
   "cell_type": "code",
   "execution_count": 11,
   "metadata": {},
   "outputs": [
    {
     "data": {
      "image/png": "[encoded data removed]",
      "text/plain": [
       "<Figure size 432x288 with 1 Axes>"
      ]
     },
     "metadata": {},
     "output_type": "display_data"
    },
    {
     "data": {
      "image/png": "[encoded data removed]",
      "text/plain": [
       "<Figure size 432x288 with 1 Axes>"
      ]
     },
     "metadata": {},
     "output_type": "display_data"
    }
   ],
   "source": [
    "one_resample.hist(0)\n",
    "observations.hist(0)"
   ]
  },
  {
   "cell_type": "markdown",
   "metadata": {},
   "source": [
    "#### Question 2.3\n",
    "Which of the following are true:\n",
    "1. In the plot of the resample, there are no bars at locations that weren't there in the plot of the original observations.\n",
    "2. In the plot of the original observations, there are no bars at locations that weren't there in the plot of the resample.\n",
    "3. The resample has exactly one copy of each serial number.\n",
    "4. The sample has exactly one copy of each serial number.\n",
    "\n",
    "Assign true_statements to a list of the correct statements."
   ]
  },
  {
   "cell_type": "code",
   "execution_count": 14,
   "metadata": {},
   "outputs": [],
   "source": [
    "true_statements = [1, 4]"
   ]
  },
  {
   "cell_type": "code",
   "execution_count": 15,
   "metadata": {},
   "outputs": [
    {
     "data": {
      "text/html": [
       "\n",
       "    \n",
       "    \n",
       "        <p>All tests passed! Full grade.</p>\n",
       "    \n",
       "    "
      ],
      "text/plain": [
       "<gofer.ok.OKTestsResult at 0x11d2a9898>"
      ]
     },
     "execution_count": 15,
     "metadata": {},
     "output_type": "execute_result"
    }
   ],
   "source": [
    "check('tests/q2_3.py')"
   ]
  },
  {
   "cell_type": "markdown",
   "metadata": {},
   "source": [
    "#### Question 2.4\n",
    "Create two more resamples using the function `simulate_resample` from above. For each resampled data, plot it and compute its max- and mean-based estimates."
   ]
  },
  {
   "cell_type": "code",
   "execution_count": 22,
   "metadata": {},
   "outputs": [
    {
     "name": "stdout",
     "output_type": "stream",
     "text": [
      "Mean-based estimate for resample 0: 126.23529411764706\n",
      "Max-based estimate for resample 0: 135\n",
      "Mean-based estimate for resample 1: 112.0\n",
      "Max-based estimate for resample 1: 135\n"
     ]
    }
   ],
   "source": [
    "resample_0 = simulate_resample()\n",
    "mean_based_estimate_0 = mean_based_estimator(resample_0.column(0))\n",
    "max_based_estimate_0 = max(resample_0.column(0))\n",
    "print(\"Mean-based estimate for resample 0:\", mean_based_estimate_0)\n",
    "print(\"Max-based estimate for resample 0:\", max_based_estimate_0)\n",
    "\n",
    "resample_1 = simulate_resample()\n",
    "mean_based_estimate_1 = mean_based_estimator(resample_1.column(0))\n",
    "max_based_estimate_1 = max(resample_1.column(0))\n",
    "print(\"Mean-based estimate for resample 1:\", mean_based_estimate_1)\n",
    "print(\"Max-based estimate for resample 1:\", max_based_estimate_1)"
   ]
  },
  {
   "cell_type": "markdown",
   "metadata": {},
   "source": [
    "#### Question 2.5\n",
    "Using probability that you've learned, compute the exact chance that a max-based estimate from *one* resample is 135."
   ]
  },
  {
   "cell_type": "markdown",
   "metadata": {},
   "source": [
    "135 appears as 1 in 17 observations. The chance that it appears at least once is:\n",
    "\n",
    "$$1 - \\left(\\frac{16}{17}\\right)^{17} \\approx 0.64$$"
   ]
  },
  {
   "cell_type": "markdown",
   "metadata": {},
   "source": [
    "## 3. Simulating with resampling\n",
    "\n",
    "#### Question 3.1\n",
    "Write a function called `simulate_estimates`.  It should take 4 arguments:\n",
    "1. A table from which the data should be sampled.  The table will have 1 column named `\"serial number\"`.\n",
    "2. The size of each sample to draw from that table, an integer.  \n",
    "3. A function that computes a statistic of a sample.  This argument is a *function* that takes an array of serial numbers as its argument and returns a number.\n",
    "4. The number of times to sample.\n",
    "\n",
    "It should simulate many samples with replacement from the given table.  (The number of samples is the 4th argument.)  For each of those samples, it should compute the statistic on that sample. Then it should return an array containing each of those statistics.  The code below provides an example use of your function and describes how you can verify that you've written it correctly.\n",
    "\n",
    "**Hint**: Your implementation should contain the following line, which extracts the \"serial number\" column from some table ``t`` and calls the `statistic` function on it, storing the result in the name `s`.\n",
    "\n",
    "``s = statistic(t.column(\"serial number\"))``"
   ]
  },
  {
   "cell_type": "code",
   "execution_count": 24,
   "metadata": {
    "for_assignment_type": "student"
   },
   "outputs": [
    {
     "data": {
      "image/png": "[encoded data removed]",
      "text/plain": [
       "<Figure size 432x288 with 1 Axes>"
      ]
     },
     "metadata": {},
     "output_type": "display_data"
    }
   ],
   "source": [
    "def simulate_estimates(original_table, sample_size, statistic, num_replications):\n",
    "    # Our implementation of this function took 5 short lines of code.\n",
    "    results = []\n",
    "    for _ in range(num_replications):\n",
    "        t = original_table.sample(sample_size)\n",
    "        s = statistic(t.column(\"serial number\"))\n",
    "        results.append(s)\n",
    "    return np.array(results)\n",
    "    \n",
    "\n",
    "# This should generate an empirical histogram of twice-mean estimates\n",
    "# of N from samples of size 50 if N is 1000.  This should be a bell-shaped\n",
    "# curve centered at 1000 with most of its mass in [800, 1200].  To verify your\n",
    "# answer, make sure that's what you see!\n",
    "example_estimates = simulate_estimates(\n",
    "    Table().with_column(\"serial number\", np.arange(1, 1000+1)),\n",
    "    50,\n",
    "    mean_based_estimator,\n",
    "    1000)\n",
    "Table().with_column(\"mean-based estimate\", example_estimates).hist(bins=np.arange(0, 1500, 25))"
   ]
  },
  {
   "cell_type": "markdown",
   "metadata": {},
   "source": [
    "Now we can go back to the sample we actually observed (the table `observations`) and estimate how much our mean-based estimate of `N` would have varied from sample to sample."
   ]
  },
  {
   "cell_type": "markdown",
   "metadata": {},
   "source": [
    "#### Question 3.2\n",
    "Using the bootstrap and the sample `observations`, simulate the approximate distribution of *mean-based estimates* of `N`.  Use 5,000 replications.  \n",
    "We have provided code that plots a histogram, allowing you to visualize the simulated estimates."
   ]
  },
  {
   "cell_type": "code",
   "execution_count": 25,
   "metadata": {},
   "outputs": [
    {
     "data": {
      "image/png": "[encoded data removed]",
      "text/plain": [
       "<Figure size 432x288 with 1 Axes>"
      ]
     },
     "metadata": {},
     "output_type": "display_data"
    }
   ],
   "source": [
    "bootstrap_estimates = simulate_estimates(observations, 17, mean_based_estimator, 5000)\n",
    "Table().with_column(\"mean-based estimate\", bootstrap_estimates).hist(bins=np.arange(0, 200, 4)) "
   ]
  },
  {
   "cell_type": "markdown",
   "metadata": {},
   "source": [
    "#### Question 3.3\n",
    "Compute an interval that covers the middle 95% of the bootstrap estimates.  Verify that your interval looks like it covers 95% of the area in the histogram above."
   ]
  },
  {
   "cell_type": "code",
   "execution_count": 28,
   "metadata": {},
   "outputs": [
    {
     "name": "stdout",
     "output_type": "stream",
     "text": [
      "Middle 95% of bootstrap estimates: [99.529412, 146.823529]\n"
     ]
    }
   ],
   "source": [
    "left_end = percentile(5, bootstrap_estimates)\n",
    "right_end = percentile(95, bootstrap_estimates)\n",
    "print(\"Middle 95% of bootstrap estimates: [{:f}, {:f}]\".format(left_end, right_end))"
   ]
  },
  {
   "cell_type": "markdown",
   "metadata": {},
   "source": [
    "#### Question 3.4\n",
    "What can you conclude from this analysis?"
   ]
  },
  {
   "cell_type": "markdown",
   "metadata": {},
   "source": [
    "This 95% confidence interval may or may not contain N. It was chosen such that for 95% of samples, the interval will contain the parameter. However, since we have only one sample, there's no way to tell whether this particular interval contains the parameter or not."
   ]
  },
  {
   "cell_type": "markdown",
   "metadata": {},
   "source": [
    "The original `N` used to generate `observations` was 150.\n",
    "\n",
    "*In the remainder of this lab (omitted), students drew new samples from the population and computed confidence intervals for each one to observe how often the procedure gives an interval containing the parameter.*"
   ]
  }
 ],
 "metadata": {
  "anaconda-cloud": {},
  "kernelspec": {
   "display_name": "Python 3",
   "language": "python",
   "name": "python3"
  },
  "lab": "lab05",
  "language_info": {
   "codemirror_mode": {
    "name": "ipython",
    "version": 3
   },
   "file_extension": ".py",
   "mimetype": "text/x-python",
   "name": "python",
   "nbconvert_exporter": "python",
   "pygments_lexer": "ipython3",
   "version": "3.6.7"
  },
  "section": "2"
 },
 "nbformat": 4,
 "nbformat_minor": 1
}
